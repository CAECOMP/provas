{
  "nbformat": 4,
  "nbformat_minor": 0,
  "metadata": {
    "colab": {
      "provenance": []
    },
    "kernelspec": {
      "name": "python3",
      "display_name": "Python 3"
    },
    "language_info": {
      "name": "python"
    }
  },
  "cells": [
    {
      "cell_type": "markdown",
      "source": [
        "# Implementação InsertionSort - Felipe Alves de Sousa\n",
        "\n",
        "\n",
        "\n"
      ],
      "metadata": {
        "id": "uPCjaDQsBuSi"
      }
    },
    {
      "cell_type": "markdown",
      "metadata": {
        "id": "C2oHGfZOWqsN"
      },
      "source": [
        "Primeiro importaremos as bibliotecas "
      ]
    },
    {
      "cell_type": "code",
      "execution_count": null,
      "metadata": {
        "id": "rXzwT-IZ_SEb"
      },
      "outputs": [],
      "source": [
        "#Importacao das bibliotecas utilizadas\n",
        "import numpy as np\n",
        "import matplotlib.pyplot as plt\n",
        "from time import perf_counter"
      ]
    },
    {
      "cell_type": "markdown",
      "metadata": {
        "id": "szHQR7m2W05G"
      },
      "source": [
        "Aqui implementei a minha versao do Insertion Sort"
      ]
    },
    {
      "cell_type": "code",
      "execution_count": null,
      "metadata": {
        "id": "0ivCngiRqW28"
      },
      "outputs": [],
      "source": [
        "def InsertionSort(lista):\n",
        "  for x in range(1,len(lista)):\n",
        "    pivo = lista[x] \n",
        "    indice=x-1\n",
        "    \n",
        "    while indice>=0 and pivo<lista[indice]:\n",
        "      lista[indice+1]=lista[indice]\n",
        "      indice-=1\n",
        "\n",
        "    lista[indice+1] = pivo\n"
      ]
    },
    {
      "cell_type": "code",
      "source": [
        "#Testando a funcionalidade\n",
        "teste=np.array([8,10,15,20,24])\n",
        "\n",
        "for x in range (len(teste)):\n",
        "  lista = np.random.randint(40,size=teste[x])\n",
        "\n",
        "  print(\"LISTA ANTES DA ORDENACAO\",teste[x],\"elementos:\")\n",
        "  print(lista)\n",
        "\n",
        "  InsertionSort(lista)\n",
        "\n",
        "  print(\"LISTA DEPOIS DA ORDENACAO\",teste[x],\"elementos:\")\n",
        "  print(lista,\"\\n\")"
      ],
      "metadata": {
        "colab": {
          "base_uri": "https://localhost:8080/"
        },
        "id": "oulRRadv5QYU",
        "outputId": "d94dd5f6-3a98-4a68-fd90-2ccd104b72cf"
      },
      "execution_count": null,
      "outputs": [
        {
          "output_type": "stream",
          "name": "stdout",
          "text": [
            "LISTA ANTES DA ORDENACAO 8 elementos:\n",
            "[ 9 30 38 21 39 37  6 11]\n",
            "LISTA DEPOIS DA ORDENACAO 8 elementos:\n",
            "[ 6  9 11 21 30 37 38 39] \n",
            "\n",
            "LISTA ANTES DA ORDENACAO 10 elementos:\n",
            "[11 38 24 30 36 22 24 30 13 10]\n",
            "LISTA DEPOIS DA ORDENACAO 10 elementos:\n",
            "[10 11 13 22 24 24 30 30 36 38] \n",
            "\n",
            "LISTA ANTES DA ORDENACAO 15 elementos:\n",
            "[24 31 22 20 23 15 39 17 24 18 21 30 12 34 21]\n",
            "LISTA DEPOIS DA ORDENACAO 15 elementos:\n",
            "[12 15 17 18 20 21 21 22 23 24 24 30 31 34 39] \n",
            "\n",
            "LISTA ANTES DA ORDENACAO 20 elementos:\n",
            "[36 11 29  1 17 13  5  4 33  7  6 38  9 27 11 15  5 24  0 30]\n",
            "LISTA DEPOIS DA ORDENACAO 20 elementos:\n",
            "[ 0  1  4  5  5  6  7  9 11 11 13 15 17 24 27 29 30 33 36 38] \n",
            "\n",
            "LISTA ANTES DA ORDENACAO 24 elementos:\n",
            "[10 14 15  7 37 24 25 16  4 36 39 34  2 37  3 16  8  3 14 20 25  6  8  7]\n",
            "LISTA DEPOIS DA ORDENACAO 24 elementos:\n",
            "[ 2  3  3  4  6  7  7  8  8 10 14 14 15 16 16 20 24 25 25 34 36 37 37 39] \n",
            "\n"
          ]
        }
      ]
    },
    {
      "cell_type": "markdown",
      "metadata": {
        "id": "RAyV0Ckybi_B"
      },
      "source": [
        "# Testes"
      ]
    },
    {
      "cell_type": "markdown",
      "metadata": {
        "id": "QRfcPGUYW7UO"
      },
      "source": [
        "Agora vamo aos testes para os valores de 1k ate 15k de elementos quanto sera que o InsertionSort demora para executar ? 😧"
      ]
    },
    {
      "cell_type": "code",
      "execution_count": null,
      "metadata": {
        "colab": {
          "base_uri": "https://localhost:8080/"
        },
        "id": "45iQN6A_tcOQ",
        "outputId": "f6b32eb1-a917-421e-a5e2-78e7fa60d8a1"
      },
      "outputs": [
        {
          "output_type": "stream",
          "name": "stdout",
          "text": [
            "Para  1000  elementos foi gasto 0.2192 segundos\n",
            "Para  2000  elementos foi gasto 0.4284 segundos\n",
            "Para  3000  elementos foi gasto 0.9207 segundos\n",
            "Para  4000  elementos foi gasto 1.6108 segundos\n",
            "Para  5000  elementos foi gasto 2.7692 segundos\n",
            "Para  8000  elementos foi gasto 13.6447 segundos\n",
            "Para  11000  elementos foi gasto 12.1272 segundos\n",
            "Para  15000  elementos foi gasto 22.3377 segundos\n"
          ]
        }
      ],
      "source": [
        "#Aqui implementei bem parecido com os testes do BubbleSort\n",
        "testes=np.array([1000,2000,3000,4000,5000,8000,11000,15000])\n",
        "resultados=np.array([0.0,0.0,0.0,0.0,0.0,0.0,0.0,0.0])\n",
        "\n",
        "for x in range (len(testes)):\n",
        "  lista = np.random.randint(2500,size=(testes[x]))\n",
        "\n",
        "  inicio = perf_counter()\n",
        "  InsertionSort(lista)\n",
        "  fim = perf_counter()\n",
        "\n",
        "\n",
        "  resultados[x]=fim-inicio\n",
        "  resultados[x]=round(resultados[x],4)\n",
        "\n",
        "  print(\"Para \",testes[x],\" elementos foi gasto\",resultados[x],\"segundos\")"
      ]
    },
    {
      "cell_type": "markdown",
      "metadata": {
        "id": "Xju4ybljuM36"
      },
      "source": [
        "# Plotando gráfico comparativo"
      ]
    },
    {
      "cell_type": "markdown",
      "metadata": {
        "id": "XdgtPJuluXv4"
      },
      "source": [
        "Por fim utilizarei o matplotlib para plotar um grafico com as comparações entre Nº de Elementos e Tempos necessario para executar o InsertionSort"
      ]
    },
    {
      "cell_type": "code",
      "execution_count": null,
      "metadata": {
        "colab": {
          "base_uri": "https://localhost:8080/",
          "height": 279
        },
        "id": "dM0dJs1TcHJb",
        "outputId": "b766cdb2-8703-46b7-e06c-f76aa59f864b"
      },
      "outputs": [
        {
          "output_type": "display_data",
          "data": {
            "text/plain": [
              "<Figure size 432x288 with 1 Axes>"
            ],
            "image/png": "[encoded data removed]"
          },
          "metadata": {
            "needs_background": "light"
          }
        }
      ],
      "source": [
        "plt.plot(testes,resultados)\n",
        "plt.ylabel('Tempo(s)')\n",
        "plt.xlabel('Nº de Elementos')\n",
        "plt.show()"
      ]
    },
    {
      "cell_type": "markdown",
      "source": [
        "# Pior caso\n"
      ],
      "metadata": {
        "id": "_yZSXO6Scomy"
      }
    },
    {
      "cell_type": "markdown",
      "source": [
        "No InsertionSort temos algo bem interessante, na maoria dos casos a complexidade do algoritmo é O(x²) inclusive no pior caso, vejamos como esse algoritmo se comparta"
      ],
      "metadata": {
        "id": "_dEOq2oecsvA"
      }
    },
    {
      "cell_type": "code",
      "source": [
        "#O código sera bem parecido\n",
        "testes=np.array([1000,2000,3000,4000,5000,8000,11000,15000])\n",
        "resultados2=np.array([0.0,0.0,0.0,0.0,0.0,0.0,0.0,0.0])\n",
        "\n",
        "for x in range (len(testes)):\n",
        "  #Só que aqui iremos gerar uma lista ordenada e depois invertela\n",
        "  lista = np.arange(testes[x])\n",
        "  listaInversa = lista[::-1]\n",
        "\n",
        "   \n",
        "  inicio = perf_counter()\n",
        "  InsertionSort(listaInversa)\n",
        "  fim = perf_counter()\n",
        "\n",
        "\n",
        "  resultados2[x]=fim-inicio\n",
        "  resultados2[x]=round(resultados2[x],4)\n",
        "\n",
        "  print(\"Para \",testes[x],\" elementos foi gasto\",resultados2[x],\"segundos\")"
      ],
      "metadata": {
        "colab": {
          "base_uri": "https://localhost:8080/"
        },
        "id": "r9OiTRAxcudU",
        "outputId": "122370be-2cf6-4433-9672-6b0af19e6de1"
      },
      "execution_count": null,
      "outputs": [
        {
          "output_type": "stream",
          "name": "stdout",
          "text": [
            "Para  1000  elementos foi gasto 0.2008 segundos\n",
            "Para  2000  elementos foi gasto 0.8287 segundos\n",
            "Para  3000  elementos foi gasto 1.8309 segundos\n",
            "Para  4000  elementos foi gasto 3.325 segundos\n",
            "Para  5000  elementos foi gasto 5.0915 segundos\n",
            "Para  8000  elementos foi gasto 12.9853 segundos\n",
            "Para  11000  elementos foi gasto 24.924 segundos\n",
            "Para  15000  elementos foi gasto 45.3603 segundos\n"
          ]
        }
      ]
    },
    {
      "cell_type": "markdown",
      "source": [
        "Vamos agora ver o gráfico do pior caso"
      ],
      "metadata": {
        "id": "niHHwWdVfumm"
      }
    },
    {
      "cell_type": "code",
      "source": [
        "plt.plot(testes,resultados2)\n",
        "plt.ylabel('Tempo(s)')\n",
        "plt.xlabel('Nº de Elementos')\n",
        "plt.show()"
      ],
      "metadata": {
        "colab": {
          "base_uri": "https://localhost:8080/"
        },
        "id": "B4CvezvrftbC",
        "outputId": "f074a11f-2c70-4c7c-9378-b871f0bf2e0d"
      },
      "execution_count": null,
      "outputs": [
        {
          "output_type": "display_data",
          "data": {
            "text/plain": [
              "<Figure size 432x288 with 1 Axes>"
            ],
            "image/png": "[encoded data removed]"
          },
          "metadata": {
            "needs_background": "light"
          }
        }
      ]
    },
    {
      "cell_type": "markdown",
      "source": [
        "# Comparativo entre Pior Caso e listas com números aleatórios"
      ],
      "metadata": {
        "id": "ZzvMsVJrpBlj"
      }
    },
    {
      "cell_type": "code",
      "source": [
        "x = testes\n",
        "\n",
        "plt.plot(x, resultados, label='Números Aleatórios')\n",
        "plt.plot(x, resultados2, label='Pior Caso(Lista Invertida)')  \n",
        "plt.ylabel('Tempo(s)')\n",
        "plt.xlabel('Nº de Elementos')\n",
        "plt.title(\"Insertion Sort\")\n",
        "plt.legend();\n",
        "\n"
      ],
      "metadata": {
        "colab": {
          "base_uri": "https://localhost:8080/"
        },
        "id": "Cldk1mKFl4nT",
        "outputId": "af16a9ee-e225-46cd-9ee6-00d79f129233"
      },
      "execution_count": null,
      "outputs": [
        {
          "output_type": "display_data",
          "data": {
            "text/plain": [
              "<Figure size 432x288 with 1 Axes>"
            ],
            "image/png": "[encoded data removed]"
          },
          "metadata": {
            "needs_background": "light"
          }
        }
      ]
    }
  ]
}