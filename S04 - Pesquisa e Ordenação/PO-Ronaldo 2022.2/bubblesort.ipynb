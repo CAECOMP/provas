{
  "nbformat": 4,
  "nbformat_minor": 0,
  "metadata": {
    "colab": {
      "provenance": [],
      "collapsed_sections": []
    },
    "kernelspec": {
      "name": "python3",
      "display_name": "Python 3"
    },
    "language_info": {
      "name": "python"
    }
  },
  "cells": [
    {
      "cell_type": "markdown",
      "source": [
        "# Implementação BubbleSort - Felipe Alves de Sousa\n",
        " \n"
      ],
      "metadata": {
        "id": "oa7rR3vjb3zF"
      }
    },
    {
      "cell_type": "markdown",
      "source": [
        "Nessa tecnica, fazemos uma comparação dois a dois dos elementos, se o elemento anterior for maior que o elemento seguinte, é feita a troca desses elementos e sera feita uma nova comparação com os proximos elementos\n"
      ],
      "metadata": {
        "id": "sOqC8Rn1niqE"
      }
    },
    {
      "cell_type": "markdown",
      "source": [
        "Primeiro importaremos as bibliotecas "
      ],
      "metadata": {
        "id": "C2oHGfZOWqsN"
      }
    },
    {
      "cell_type": "code",
      "execution_count": 31,
      "metadata": {
        "id": "LUZgcyOavKNF"
      },
      "outputs": [],
      "source": [
        "#Importacao das bibliotecas utilizadas\n",
        "import numpy as np\n",
        "import matplotlib.pyplot as plt\n",
        "from time import perf_counter"
      ]
    },
    {
      "cell_type": "markdown",
      "source": [
        "Aqui implementei a minha versao do Bubble Sort"
      ],
      "metadata": {
        "id": "szHQR7m2W05G"
      }
    },
    {
      "cell_type": "code",
      "source": [
        "def BubbleSort(lista):\n",
        "  #Variaveis auxiliares\n",
        "  aux=0\n",
        "  troca=True\n",
        "  x=0\n",
        "  tamanho=len(lista)-1\n",
        "\n",
        "  while troca==True:\n",
        "    troca=False\n",
        "    #Utilizarei um for para percorrer a lista\n",
        "    for x in range (tamanho):\n",
        "      #Depois vamos fazer as comparaçoes dois a dois\n",
        "      if lista[x] > lista[x+1]:\n",
        "        lista[x+1],lista[x]=lista[x],lista[x+1]\n",
        "        troca=troca+1\n",
        "        troca=True\n",
        "    #Podemos otimizar o algoritmo diminuindo o numero de comparaçoes a cada iteracao do for\n",
        "    tamanho=tamanho-1\n",
        "    \n",
        "      \n"
      ],
      "metadata": {
        "id": "0ivCngiRqW28"
      },
      "execution_count": 32,
      "outputs": []
    },
    {
      "cell_type": "code",
      "source": [
        "#Testando a funcionalidade\n",
        "teste=np.array([4,5,6,10,20])\n",
        "\n",
        "for x in range (len(teste)):\n",
        "\n",
        "  lista = np.random.randint(50,size=(teste[x]))\n",
        "\n",
        "  print(\"LISTA ANTES DA ORDENACAO\",teste[x],\"elementos:\")\n",
        "  print(lista)\n",
        "\n",
        "  BubbleSort(lista)\n",
        "\n",
        "  print(\"LISTA DEPOIS DA ORDENACAO\",teste[x],\"elementos:\")\n",
        "  print(lista,\"\\n\")"
      ],
      "metadata": {
        "colab": {
          "base_uri": "https://localhost:8080/"
        },
        "id": "MogXOukdis6Y",
        "outputId": "b0c768a8-7fd7-4595-8164-2534cbf85660"
      },
      "execution_count": 33,
      "outputs": [
        {
          "output_type": "stream",
          "name": "stdout",
          "text": [
            "LISTA ANTES DA ORDENACAO 4 elementos:\n",
            "[39 14  6 30]\n",
            "LISTA DEPOIS DA ORDENACAO 4 elementos:\n",
            "[ 6 14 30 39] \n",
            "\n",
            "LISTA ANTES DA ORDENACAO 5 elementos:\n",
            "[31 19 45 43 27]\n",
            "LISTA DEPOIS DA ORDENACAO 5 elementos:\n",
            "[19 27 31 43 45] \n",
            "\n",
            "LISTA ANTES DA ORDENACAO 6 elementos:\n",
            "[47 27 26 28 28 44]\n",
            "LISTA DEPOIS DA ORDENACAO 6 elementos:\n",
            "[26 27 28 28 44 47] \n",
            "\n",
            "LISTA ANTES DA ORDENACAO 10 elementos:\n",
            "[ 2 11 38 40 35 11  3 38  6  5]\n",
            "LISTA DEPOIS DA ORDENACAO 10 elementos:\n",
            "[ 2  3  5  6 11 11 35 38 38 40] \n",
            "\n",
            "LISTA ANTES DA ORDENACAO 20 elementos:\n",
            "[43 22  6 34  0 45 27 46 39 22 10 29 47 42  6 22 45  2 13 17]\n",
            "LISTA DEPOIS DA ORDENACAO 20 elementos:\n",
            "[ 0  2  6  6 10 13 17 22 22 22 27 29 34 39 42 43 45 45 46 47] \n",
            "\n"
          ]
        }
      ]
    },
    {
      "cell_type": "markdown",
      "source": [
        "# Testes"
      ],
      "metadata": {
        "id": "RAyV0Ckybi_B"
      }
    },
    {
      "cell_type": "markdown",
      "source": [
        "Agora vamo aos testes para os valores de 1k ate 15k de elementos quanto sera que o BubbleSort demora para executar ?"
      ],
      "metadata": {
        "id": "QRfcPGUYW7UO"
      }
    },
    {
      "cell_type": "code",
      "source": [
        "#Irei iniciar com array com os numeros de elementos que usaremos em cada teste\n",
        "testes=np.array([1000,2000,3000,4000,5000,8000,11000,15000])\n",
        "#Tambem irei criar um array para armazenar o resultado em segundos de cada teste\n",
        "resultados=np.array([0.0,0.0,0.0,0.0,0.0,0.0,0.0,0.0])\n",
        "\n",
        "#Com esse for conseguiremos testar nosso BubbleSort com os valores de 1k ate 15k de elementos\n",
        "for x in range (len(testes)):\n",
        "  #Primeiro iremos iniciar um vetor do tamanho da vez(indicado por testes[x])\n",
        "  lista = np.random.randint(2500,size=(testes[x]))\n",
        "\n",
        "  #Temporizador \n",
        "  inicio = perf_counter()\n",
        "  BubbleSort(lista)\n",
        "  fim = perf_counter()\n",
        "\n",
        "\n",
        "  resultados[x]=fim-inicio\n",
        "  #O tempo sera armazenado em vetor na mesma posicao do teste que esta sendo feito\n",
        "  resultados[x]=round(resultados[x],2)\n",
        "\n",
        "  print(\"Para \",testes[x],\" elementos foi gasto\",resultados[x],\"segundos\")"
      ],
      "metadata": {
        "id": "WVZX7TOOptbY",
        "colab": {
          "base_uri": "https://localhost:8080/"
        },
        "outputId": "c2f1bd5d-ff97-4aa7-ccd8-b864243bae93"
      },
      "execution_count": 34,
      "outputs": [
        {
          "output_type": "stream",
          "name": "stdout",
          "text": [
            "Para  1000  elementos foi gasto 0.3 segundos\n",
            "Para  2000  elementos foi gasto 1.08 segundos\n",
            "Para  3000  elementos foi gasto 2.43 segundos\n",
            "Para  4000  elementos foi gasto 4.42 segundos\n",
            "Para  5000  elementos foi gasto 6.77 segundos\n",
            "Para  8000  elementos foi gasto 17.25 segundos\n",
            "Para  11000  elementos foi gasto 33.28 segundos\n",
            "Para  15000  elementos foi gasto 59.61 segundos\n"
          ]
        }
      ]
    },
    {
      "cell_type": "markdown",
      "source": [
        "# Plotando gráfico comparativo"
      ],
      "metadata": {
        "id": "Xju4ybljuM36"
      }
    },
    {
      "cell_type": "markdown",
      "source": [
        "Por fim utilizarei o matplotlib para plotar um grafico com as comparações entre Nº de Elementos e Tempos necessario para executar o BubbleSort"
      ],
      "metadata": {
        "id": "XdgtPJuluXv4"
      }
    },
    {
      "cell_type": "code",
      "source": [
        "plt.plot(testes,resultados)\n",
        "plt.ylabel('Tempo(s)')\n",
        "plt.xlabel('Nº de Elementos')\n",
        "plt.show()"
      ],
      "metadata": {
        "id": "dM0dJs1TcHJb",
        "colab": {
          "base_uri": "https://localhost:8080/",
          "height": 279
        },
        "outputId": "136e596b-abc5-4e23-c506-3f475815fcae"
      },
      "execution_count": 35,
      "outputs": [
        {
          "output_type": "display_data",
          "data": {
            "text/plain": [
              "<Figure size 432x288 with 1 Axes>"
            ],
            "image/png": "[encoded data removed]"
          },
          "metadata": {
            "needs_background": "light"
          }
        }
      ]
    },
    {
      "cell_type": "markdown",
      "source": [
        "# Pior caso\n"
      ],
      "metadata": {
        "id": "_yZSXO6Scomy"
      }
    },
    {
      "cell_type": "markdown",
      "source": [
        "O pior caso desse algoritmo é quando ele é usado em uma lista inversamente ordenada, nesses casos a complexidade dele chega a O(x²).Vamos ver quanto tempo o BubbleSorte demora pra ordenar no pior caso"
      ],
      "metadata": {
        "id": "_dEOq2oecsvA"
      }
    },
    {
      "cell_type": "code",
      "source": [
        "#O código sera bem parecido\n",
        "testes=np.array([1000,2000,3000,4000,5000,8000,11000,15000])\n",
        "resultados2=np.array([0.0,0.0,0.0,0.0,0.0,0.0,0.0,0.0])\n",
        "\n",
        "for x in range (len(testes)):\n",
        "  #Só que aqui iremos gerar uma lista ordenada e depois invertela\n",
        "  lista = np.arange(testes[x])\n",
        "  listaInversa = lista[::-1]\n",
        "\n",
        "   \n",
        "  inicio = perf_counter()\n",
        "  BubbleSort(listaInversa)\n",
        "  fim = perf_counter()\n",
        "\n",
        "\n",
        "  resultados2[x]=fim-inicio\n",
        "  resultados2[x]=round(resultados2[x],2)\n",
        "\n",
        "  print(\"Para \",testes[x],\" elementos foi gasto\",resultados2[x],\"segundos\")"
      ],
      "metadata": {
        "colab": {
          "base_uri": "https://localhost:8080/"
        },
        "id": "r9OiTRAxcudU",
        "outputId": "df68bf3c-c7a9-43b3-e903-946e3a841c4b"
      },
      "execution_count": 36,
      "outputs": [
        {
          "output_type": "stream",
          "name": "stdout",
          "text": [
            "Para  1000  elementos foi gasto 0.41 segundos\n",
            "Para  2000  elementos foi gasto 1.57 segundos\n",
            "Para  3000  elementos foi gasto 3.62 segundos\n",
            "Para  4000  elementos foi gasto 6.41 segundos\n",
            "Para  5000  elementos foi gasto 9.96 segundos\n",
            "Para  8000  elementos foi gasto 25.49 segundos\n",
            "Para  11000  elementos foi gasto 46.83 segundos\n",
            "Para  15000  elementos foi gasto 88.49 segundos\n"
          ]
        }
      ]
    },
    {
      "cell_type": "markdown",
      "source": [
        "Vamos agora ver o gráfico do pior caso"
      ],
      "metadata": {
        "id": "niHHwWdVfumm"
      }
    },
    {
      "cell_type": "code",
      "source": [
        "plt.plot(testes,resultados2)\n",
        "plt.ylabel('Tempo(s)')\n",
        "plt.xlabel('Nº de Elementos')\n",
        "plt.show()"
      ],
      "metadata": {
        "colab": {
          "base_uri": "https://localhost:8080/",
          "height": 279
        },
        "id": "B4CvezvrftbC",
        "outputId": "29c3f035-de35-4ad1-b496-49edd7fb9388"
      },
      "execution_count": 37,
      "outputs": [
        {
          "output_type": "display_data",
          "data": {
            "text/plain": [
              "<Figure size 432x288 with 1 Axes>"
            ],
            "image/png": "[encoded data removed]"
          },
          "metadata": {
            "needs_background": "light"
          }
        }
      ]
    },
    {
      "cell_type": "markdown",
      "source": [
        "# Comparativo entre Pior Caso e listas com números aleatórios"
      ],
      "metadata": {
        "id": "ZzvMsVJrpBlj"
      }
    },
    {
      "cell_type": "code",
      "source": [
        "x = testes\n",
        "\n",
        "plt.plot(x, resultados, label='Números Aleatórios')\n",
        "plt.plot(x, resultados2, label='Pior Caso(Lista Invertida)')  \n",
        "plt.ylabel('Tempo(s)')\n",
        "plt.xlabel('Nº de Elementos')\n",
        "plt.title(\"Bubble Sort\")\n",
        "plt.legend();\n",
        "\n"
      ],
      "metadata": {
        "colab": {
          "base_uri": "https://localhost:8080/",
          "height": 295
        },
        "id": "Cldk1mKFl4nT",
        "outputId": "e98eb77c-8958-4acc-eb32-b00d61e38960"
      },
      "execution_count": 54,
      "outputs": [
        {
          "output_type": "display_data",
          "data": {
            "text/plain": [
              "<Figure size 432x288 with 1 Axes>"
            ],
            "image/png": "[encoded data removed]"
          },
          "metadata": {
            "needs_background": "light"
          }
        }
      ]
    }
  ]
}