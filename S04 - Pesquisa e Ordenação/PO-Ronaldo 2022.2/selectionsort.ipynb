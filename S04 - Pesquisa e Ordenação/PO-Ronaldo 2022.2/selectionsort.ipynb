{
  "cells": [
    {
      "cell_type": "markdown",
      "metadata": {
        "id": "Z9RkcuCKAX3h"
      },
      "source": [
        "# Implementação SelectionSort - Felipe Alves de Sousa\n"
      ]
    },
    {
      "cell_type": "markdown",
      "metadata": {
        "id": "JqLpLayhfMwa"
      },
      "source": [
        "Neste método procuramos o menor valor da lista e substituimos na posição mais a esquerda da lista, depois repetimos esse processso até que toda lista esteja ordenada\n"
      ]
    },
    {
      "cell_type": "markdown",
      "metadata": {
        "id": "C2oHGfZOWqsN"
      },
      "source": [
        "Primeiro importaremos as bibliotecas "
      ]
    },
    {
      "cell_type": "code",
      "execution_count": 9,
      "metadata": {
        "id": "rXzwT-IZ_SEb"
      },
      "outputs": [],
      "source": [
        "#Importacao das bibliotecas utilizadas\n",
        "import numpy as np\n",
        "import matplotlib.pyplot as plt\n",
        "from time import perf_counter"
      ]
    },
    {
      "cell_type": "markdown",
      "metadata": {
        "id": "szHQR7m2W05G"
      },
      "source": [
        "Aqui implementei a minha versao do Selection Sort"
      ]
    },
    {
      "cell_type": "code",
      "execution_count": 10,
      "metadata": {
        "id": "0ivCngiRqW28"
      },
      "outputs": [],
      "source": [
        "def SelectionSort(lista):\n",
        "  \n",
        "  #Vou usar dois for para percorrer a lista\n",
        "  #Apois ordenarmos a primeira posição, podemos apenas avançar para 2º posição\n",
        "  for y in range (len(lista)):\n",
        "    menorValor=lista[y]\n",
        "    for x in range (y,len(lista)):\n",
        "      #Comparamos a lista[x] com o menor valor que ja temos\n",
        "      if lista[x]<=menorValor:\n",
        "        menorValor=lista[x]\n",
        "        indice=x\n",
        "    #Essa eh uma forma de trocar os valroes das variaveis em python\n",
        "    lista[y],lista[indice]=lista[indice],lista[y]\n",
        "    \n",
        "  "
      ]
    },
    {
      "cell_type": "code",
      "execution_count": 11,
      "metadata": {
        "colab": {
          "base_uri": "https://localhost:8080/"
        },
        "id": "MogXOukdis6Y",
        "outputId": "0b4b87c6-017a-4deb-81a7-faf8f1da1636"
      },
      "outputs": [
        {
          "output_type": "stream",
          "name": "stdout",
          "text": [
            "LISTA ANTES DA ORDENACAO 8 elementos:\n",
            "[26 12 21  6  8 36 19 15]\n",
            "LISTA DEPOIS DA ORDENACAO 8 elementos:\n",
            "[ 6  8 12 15 19 21 26 36] \n",
            "\n",
            "LISTA ANTES DA ORDENACAO 10 elementos:\n",
            "[ 4  6 35 24 15 22 31 19  0  3]\n",
            "LISTA DEPOIS DA ORDENACAO 10 elementos:\n",
            "[ 0  3  4  6 15 19 22 24 31 35] \n",
            "\n",
            "LISTA ANTES DA ORDENACAO 15 elementos:\n",
            "[12 29 31 22 13 18 14 20 27  6 34 32 34 14 31]\n",
            "LISTA DEPOIS DA ORDENACAO 15 elementos:\n",
            "[ 6 12 13 14 14 18 20 22 27 29 31 31 32 34 34] \n",
            "\n",
            "LISTA ANTES DA ORDENACAO 20 elementos:\n",
            "[29 35  4  6 35  8 11  4 38 28  5 33  9  3 17 19  3 30 21 17]\n",
            "LISTA DEPOIS DA ORDENACAO 20 elementos:\n",
            "[ 3  3  4  4  5  6  8  9 11 17 17 19 21 28 29 30 33 35 35 38] \n",
            "\n",
            "LISTA ANTES DA ORDENACAO 24 elementos:\n",
            "[15 23 11 21  1 10  6  9 35 31 19 29 36 29 10  3 25 13 34 19  8 23  2  8]\n",
            "LISTA DEPOIS DA ORDENACAO 24 elementos:\n",
            "[ 1  2  3  6  8  8  9 10 10 11 13 15 19 19 21 23 23 25 29 29 31 34 35 36] \n",
            "\n"
          ]
        }
      ],
      "source": [
        "#Testando a funcionalidade\n",
        "teste=np.array([8,10,15,20,24])\n",
        "\n",
        "for x in range (len(teste)):\n",
        "  lista = np.random.randint(40,size=teste[x])\n",
        "\n",
        "  print(\"LISTA ANTES DA ORDENACAO\",teste[x],\"elementos:\")\n",
        "  print(lista)\n",
        "\n",
        "  SelectionSort(lista)\n",
        "\n",
        "  print(\"LISTA DEPOIS DA ORDENACAO\",teste[x],\"elementos:\")\n",
        "  print(lista,\"\\n\")"
      ]
    },
    {
      "cell_type": "markdown",
      "metadata": {
        "id": "RAyV0Ckybi_B"
      },
      "source": [
        "# Testes"
      ]
    },
    {
      "cell_type": "markdown",
      "metadata": {
        "id": "QRfcPGUYW7UO"
      },
      "source": [
        "Agora vamo aos testes para os valores de 1k ate 15k de elementos quanto sera que o SelectionSort demora para executar ? 😧"
      ]
    },
    {
      "cell_type": "code",
      "execution_count": 12,
      "metadata": {
        "colab": {
          "base_uri": "https://localhost:8080/"
        },
        "id": "45iQN6A_tcOQ",
        "outputId": "38b58e5d-6f78-45b5-ed81-d6dec9a84b58"
      },
      "outputs": [
        {
          "output_type": "stream",
          "name": "stdout",
          "text": [
            "Para  1000  elementos foi gasto 0.0896 segundos\n",
            "Para  2000  elementos foi gasto 0.3079 segundos\n",
            "Para  3000  elementos foi gasto 0.6689 segundos\n",
            "Para  4000  elementos foi gasto 1.1621 segundos\n",
            "Para  5000  elementos foi gasto 1.8084 segundos\n",
            "Para  8000  elementos foi gasto 4.5371 segundos\n",
            "Para  11000  elementos foi gasto 8.4663 segundos\n",
            "Para  15000  elementos foi gasto 15.8513 segundos\n"
          ]
        }
      ],
      "source": [
        "#Aqui implementei bem parecido com os testes do BubbleSort\n",
        "testes=np.array([1000,2000,3000,4000,5000,8000,11000,15000])\n",
        "resultados=np.array([0.0,0.0,0.0,0.0,0.0,0.0,0.0,0.0])\n",
        "\n",
        "for x in range (len(testes)):\n",
        "  lista = np.random.randint(2500,size=(testes[x]))\n",
        "\n",
        "  inicio = perf_counter()\n",
        "  SelectionSort(lista)\n",
        "  fim = perf_counter()\n",
        "\n",
        "\n",
        "  resultados[x]=fim-inicio\n",
        "  resultados[x]=round(resultados[x],4)\n",
        "\n",
        "  print(\"Para \",testes[x],\" elementos foi gasto\",resultados[x],\"segundos\")"
      ]
    },
    {
      "cell_type": "markdown",
      "metadata": {
        "id": "Xju4ybljuM36"
      },
      "source": [
        "# Plotando gráfico comparativo"
      ]
    },
    {
      "cell_type": "markdown",
      "metadata": {
        "id": "XdgtPJuluXv4"
      },
      "source": [
        "Por fim utilizarei o matplotlib para plotar um grafico com as comparações entre Nº de Elementos e Tempos necessario para executar o SelectionSort"
      ]
    },
    {
      "cell_type": "code",
      "execution_count": 13,
      "metadata": {
        "colab": {
          "base_uri": "https://localhost:8080/",
          "height": 279
        },
        "id": "dM0dJs1TcHJb",
        "outputId": "46f32c6a-773a-4543-fa86-e7e920b0da4f"
      },
      "outputs": [
        {
          "output_type": "display_data",
          "data": {
            "text/plain": [
              "<Figure size 432x288 with 1 Axes>"
            ],
            "image/png": "[encoded data removed]"
          },
          "metadata": {
            "needs_background": "light"
          }
        }
      ],
      "source": [
        "plt.plot(testes,resultados)\n",
        "plt.ylabel('Tempo(s)')\n",
        "plt.xlabel('Nº de Elementos')\n",
        "plt.show()"
      ]
    },
    {
      "cell_type": "markdown",
      "source": [
        "# Pior caso\n"
      ],
      "metadata": {
        "id": "_yZSXO6Scomy"
      }
    },
    {
      "cell_type": "markdown",
      "source": [
        "No Selection Sort temos algo bem interessante, na maoria dos casos a complexidade do algoritmo é O(x²) inclusive no pior caso, vejamos como esse algoritmo se comparta"
      ],
      "metadata": {
        "id": "_dEOq2oecsvA"
      }
    },
    {
      "cell_type": "code",
      "source": [
        "#O código sera bem parecido\n",
        "testes=np.array([1000,2000,3000,4000,5000,8000,11000,15000])\n",
        "resultados2=np.array([0.0,0.0,0.0,0.0,0.0,0.0,0.0,0.0])\n",
        "\n",
        "for x in range (len(testes)):\n",
        "  #Só que aqui iremos gerar uma lista ordenada e depois invertela\n",
        "  lista = np.arange(testes[x])\n",
        "  listaInversa = lista[::-1]\n",
        "\n",
        "   \n",
        "  inicio = perf_counter()\n",
        "  SelectionSort(listaInversa)\n",
        "  fim = perf_counter()\n",
        "\n",
        "\n",
        "  resultados2[x]=fim-inicio\n",
        "  resultados2[x]=round(resultados2[x],4)\n",
        "\n",
        "  print(\"Para \",testes[x],\" elementos foi gasto\",resultados2[x],\"segundos\")"
      ],
      "metadata": {
        "colab": {
          "base_uri": "https://localhost:8080/"
        },
        "id": "r9OiTRAxcudU",
        "outputId": "147d9ad1-fcc6-43f2-d969-487e03fa42fd"
      },
      "execution_count": 14,
      "outputs": [
        {
          "output_type": "stream",
          "name": "stdout",
          "text": [
            "Para  1000  elementos foi gasto 0.1028 segundos\n",
            "Para  2000  elementos foi gasto 0.4152 segundos\n",
            "Para  3000  elementos foi gasto 0.9827 segundos\n",
            "Para  4000  elementos foi gasto 1.7169 segundos\n",
            "Para  5000  elementos foi gasto 2.6121 segundos\n",
            "Para  8000  elementos foi gasto 6.46 segundos\n",
            "Para  11000  elementos foi gasto 12.2885 segundos\n",
            "Para  15000  elementos foi gasto 22.6739 segundos\n"
          ]
        }
      ]
    },
    {
      "cell_type": "markdown",
      "source": [
        "Vamos agora ver o gráfico do pior caso"
      ],
      "metadata": {
        "id": "niHHwWdVfumm"
      }
    },
    {
      "cell_type": "code",
      "source": [
        "plt.plot(testes,resultados2)\n",
        "plt.ylabel('Tempo(s)')\n",
        "plt.xlabel('Nº de Elementos')\n",
        "plt.show()"
      ],
      "metadata": {
        "colab": {
          "base_uri": "https://localhost:8080/",
          "height": 279
        },
        "id": "B4CvezvrftbC",
        "outputId": "e535b2ac-c2b3-4706-92ce-d3887c3cc9d3"
      },
      "execution_count": 15,
      "outputs": [
        {
          "output_type": "display_data",
          "data": {
            "text/plain": [
              "<Figure size 432x288 with 1 Axes>"
            ],
            "image/png": "[encoded data removed]"
          },
          "metadata": {
            "needs_background": "light"
          }
        }
      ]
    },
    {
      "cell_type": "markdown",
      "source": [
        "# Comparativo entre Pior Caso e listas com números aleatórios"
      ],
      "metadata": {
        "id": "ZzvMsVJrpBlj"
      }
    },
    {
      "cell_type": "code",
      "source": [
        "x = testes\n",
        "\n",
        "plt.plot(x, resultados, label='Números Aleatórios')\n",
        "plt.plot(x, resultados2, label='Pior Caso(Lista Invertida)')  \n",
        "plt.ylabel('Tempo(s)')\n",
        "plt.xlabel('Nº de Elementos')\n",
        "plt.title(\"Selection Sort\")\n",
        "plt.legend();\n",
        "\n"
      ],
      "metadata": {
        "colab": {
          "base_uri": "https://localhost:8080/",
          "height": 295
        },
        "id": "Cldk1mKFl4nT",
        "outputId": "6bd7f7f3-002a-4e64-e12f-1a7410a702f5"
      },
      "execution_count": 16,
      "outputs": [
        {
          "output_type": "display_data",
          "data": {
            "text/plain": [
              "<Figure size 432x288 with 1 Axes>"
            ],
            "image/png": "[encoded data removed]"
          },
          "metadata": {
            "needs_background": "light"
          }
        }
      ]
    },
    {
      "cell_type": "markdown",
      "source": [
        "É possivel ver uma clara diferença entre o pior dos casos"
      ],
      "metadata": {
        "id": "3ETgsFnl09FJ"
      }
    }
  ],
  "metadata": {
    "colab": {
      "provenance": []
    },
    "kernelspec": {
      "display_name": "Python 3",
      "name": "python3"
    },
    "language_info": {
      "name": "python"
    }
  },
  "nbformat": 4,
  "nbformat_minor": 0
}