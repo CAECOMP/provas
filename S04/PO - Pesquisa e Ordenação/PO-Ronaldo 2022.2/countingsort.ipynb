{
  "nbformat": 4,
  "nbformat_minor": 0,
  "metadata": {
    "colab": {
      "provenance": []
    },
    "kernelspec": {
      "name": "python3",
      "display_name": "Python 3"
    },
    "language_info": {
      "name": "python"
    }
  },
  "cells": [
    {
      "cell_type": "markdown",
      "source": [
        "# Implementação CountingSort - Felipe Alves de Sousa\n",
        " \n"
      ],
      "metadata": {
        "id": "oa7rR3vjb3zF"
      }
    },
    {
      "cell_type": "markdown",
      "source": [
        "Primeiro importaremos as bibliotecas "
      ],
      "metadata": {
        "id": "C2oHGfZOWqsN"
      }
    },
    {
      "cell_type": "code",
      "execution_count": null,
      "metadata": {
        "id": "LUZgcyOavKNF"
      },
      "outputs": [],
      "source": [
        "#Importacao das bibliotecas utilizadas\n",
        "import numpy as np\n",
        "import matplotlib.pyplot as plt\n",
        "from time import perf_counter"
      ]
    },
    {
      "cell_type": "markdown",
      "source": [
        "Aqui implementei a minha versao do Counting Sort"
      ],
      "metadata": {
        "id": "szHQR7m2W05G"
      }
    },
    {
      "cell_type": "code",
      "source": [
        "def countingSort(lista):\n",
        "    tam = len(lista)\n",
        "    listaOrdenada = [0] * tam\n",
        "\n",
        "    # Inicializa o vetor contador\n",
        "    contador = [0] * 10\n",
        "\n",
        "    # Armazena a contagem de cada elemento na lista contador\n",
        "    for i in range(0, tam):\n",
        "        contador[lista[i]] += 1\n",
        "\n",
        "    # Armazena a contagem acumulativa na lista contador\n",
        "    for i in range(1, 10):\n",
        "        contador[i] += contador[i - 1]\n",
        "\n",
        "    # Acha o index de cada elemento da lista original no contador e coloca\n",
        "    # os elementos na listaOrdenada\n",
        "    i = tam - 1\n",
        "    while i >= 0:\n",
        "        listaOrdenada[contador[lista[i]] - 1] = lista[i]\n",
        "        contador[lista[i]] -= 1\n",
        "        i -= 1\n",
        "\n",
        "    # Copia a listaOrdenada pra lista original\n",
        "    for i in range(0, tam):\n",
        "        lista[i] = listaOrdenada[i]\n"
      ],
      "metadata": {
        "id": "0ivCngiRqW28"
      },
      "execution_count": null,
      "outputs": []
    },
    {
      "cell_type": "code",
      "source": [
        "#Testando a funcionalidade\n",
        "teste=np.array([4,5,6,10,20])\n",
        "\n",
        "for x in range (len(teste)):\n",
        "\n",
        "  lista = np.random.randint(10,size=(teste[x]))\n",
        "\n",
        "  print(\"LISTA ANTES DA ORDENACAO\",teste[x],\"elementos:\")\n",
        "  print(lista)\n",
        "\n",
        "  countingSort(lista)\n",
        "\n",
        "  print(\"LISTA DEPOIS DA ORDENACAO\",teste[x],\"elementos:\")\n",
        "  print(lista,\"\\n\")"
      ],
      "metadata": {
        "id": "s1xws1K3Be9w",
        "colab": {
          "base_uri": "https://localhost:8080/"
        },
        "outputId": "d701baea-773e-40c7-9d8f-df20f732b3a1"
      },
      "execution_count": null,
      "outputs": [
        {
          "output_type": "stream",
          "name": "stdout",
          "text": [
            "LISTA ANTES DA ORDENACAO 4 elementos:\n",
            "[1 7 1 9]\n",
            "LISTA DEPOIS DA ORDENACAO 4 elementos:\n",
            "[1 1 7 9] \n",
            "\n",
            "LISTA ANTES DA ORDENACAO 5 elementos:\n",
            "[4 4 6 5 7]\n",
            "LISTA DEPOIS DA ORDENACAO 5 elementos:\n",
            "[4 4 5 6 7] \n",
            "\n",
            "LISTA ANTES DA ORDENACAO 6 elementos:\n",
            "[2 0 7 2 8 1]\n",
            "LISTA DEPOIS DA ORDENACAO 6 elementos:\n",
            "[0 1 2 2 7 8] \n",
            "\n",
            "LISTA ANTES DA ORDENACAO 10 elementos:\n",
            "[1 7 1 7 2 2 4 2 7 6]\n",
            "LISTA DEPOIS DA ORDENACAO 10 elementos:\n",
            "[1 1 2 2 2 4 6 7 7 7] \n",
            "\n",
            "LISTA ANTES DA ORDENACAO 20 elementos:\n",
            "[7 9 3 1 2 8 4 6 5 9 5 9 6 4 9 2 3 0 9 6]\n",
            "LISTA DEPOIS DA ORDENACAO 20 elementos:\n",
            "[0 1 2 2 3 3 4 4 5 5 6 6 6 7 8 9 9 9 9 9] \n",
            "\n"
          ]
        }
      ]
    },
    {
      "cell_type": "markdown",
      "source": [
        "# Testes"
      ],
      "metadata": {
        "id": "RAyV0Ckybi_B"
      }
    },
    {
      "cell_type": "markdown",
      "source": [
        "Agora vamo aos testes para os valores de 1k ate 15k de elementos quanto sera que o CountingSort demora para executar ?"
      ],
      "metadata": {
        "id": "QRfcPGUYW7UO"
      }
    },
    {
      "cell_type": "code",
      "source": [
        "#Irei iniciar com array com os numeros de elementos que usaremos em cada teste\n",
        "testes=np.array([10000,20000,30000,40000,50000,80000,100000])\n",
        "#Tambem irei criar um array para armazenar o resultado em segundos de cada teste\n",
        "resultados=np.array([0.0,0.0,0.0,0.0,0.0,0.0,0.0])\n",
        "\n",
        "#Com esse for conseguiremos testar nosso BubbleSort com os valores de 1k ate 15k de elementos\n",
        "for x in range (len(testes)):\n",
        "  #Primeiro iremos iniciar um vetor do tamanho da vez(indicado por testes[x])\n",
        "  lista = np.random.randint(10,size=(testes[x]))\n",
        "\n",
        "  #Temporizador \n",
        "  inicio = perf_counter()\n",
        "  countingSort(lista)\n",
        "  fim = perf_counter()\n",
        "\n",
        "\n",
        "  resultados[x]=fim-inicio\n",
        "  #O tempo sera armazenado em vetor na mesma posicao do teste que esta sendo feito\n",
        "  resultados[x]=round(resultados[x],5)\n",
        "\n",
        "  print(\"Para \",testes[x],\" elementos foi gasto\",resultados[x],\"segundos\")"
      ],
      "metadata": {
        "id": "WVZX7TOOptbY",
        "colab": {
          "base_uri": "https://localhost:8080/"
        },
        "outputId": "5d3cf927-e7d0-451c-c972-f912101afe31"
      },
      "execution_count": null,
      "outputs": [
        {
          "output_type": "stream",
          "name": "stdout",
          "text": [
            "Para  10000  elementos foi gasto 0.01312 segundos\n",
            "Para  20000  elementos foi gasto 0.02608 segundos\n",
            "Para  30000  elementos foi gasto 0.02935 segundos\n",
            "Para  40000  elementos foi gasto 0.04542 segundos\n",
            "Para  50000  elementos foi gasto 0.04955 segundos\n",
            "Para  80000  elementos foi gasto 0.08098 segundos\n",
            "Para  100000  elementos foi gasto 0.10652 segundos\n"
          ]
        }
      ]
    },
    {
      "cell_type": "markdown",
      "source": [
        "# Plotando gráfico comparativo"
      ],
      "metadata": {
        "id": "Xju4ybljuM36"
      }
    },
    {
      "cell_type": "markdown",
      "source": [
        "Por fim utilizarei o matplotlib para plotar um grafico com as comparações entre Nº de Elementos e Tempos necessario para executar o CountingSort"
      ],
      "metadata": {
        "id": "XdgtPJuluXv4"
      }
    },
    {
      "cell_type": "code",
      "source": [
        "plt.plot(testes,resultados)\n",
        "plt.ylabel('Tempo(s)')\n",
        "plt.xlabel('Nº de Elementos')\n",
        "plt.show()"
      ],
      "metadata": {
        "id": "dM0dJs1TcHJb",
        "colab": {
          "base_uri": "https://localhost:8080/",
          "height": 279
        },
        "outputId": "9138eb86-541b-4c25-f385-751a93d650ff"
      },
      "execution_count": null,
      "outputs": [
        {
          "output_type": "display_data",
          "data": {
            "text/plain": [
              "<Figure size 432x288 with 1 Axes>"
            ],
            "image/png": "[encoded data removed]"
          },
          "metadata": {
            "needs_background": "light"
          }
        }
      ]
    },
    {
      "cell_type": "markdown",
      "source": [
        "# Pior caso\n"
      ],
      "metadata": {
        "id": "_yZSXO6Scomy"
      }
    },
    {
      "cell_type": "markdown",
      "source": [
        "O pior caso desse algoritmo é quando o nosso vetor contador[] é muito grande"
      ],
      "metadata": {
        "id": "_dEOq2oecsvA"
      }
    },
    {
      "cell_type": "code",
      "source": [
        "def countingSort2(lista):\n",
        "    tam = len(lista)\n",
        "    listaOrdenada = [0] * tam\n",
        "    #vamos aumentar o vetor contador\n",
        "    contador = [0] * 100000\n",
        "\n",
        "    for i in range(0, tam):\n",
        "        contador[lista[i]] += 1\n",
        "    for i in range(1, 10):\n",
        "        contador[i] += contador[i - 1]\n",
        "    i = tam - 1\n",
        "    while i >= 0:\n",
        "        listaOrdenada[contador[lista[i]] - 1] = lista[i]\n",
        "        contador[lista[i]] -= 1\n",
        "        i -= 1\n",
        "    for i in range(0, tam):\n",
        "        lista[i] = listaOrdenada[i]\n",
        "\n",
        "\n",
        "testes=np.array([10000,20000,30000,40000,50000,80000,100000])\n",
        "resultados2=np.array([0.0,0.0,0.0,0.0,0.0,0.0,0.0])\n",
        "\n",
        "for x in range (len(testes)):\n",
        "  \n",
        "  listaPiorCaso = np.random.randint(100000,size=(testes[x]))\n",
        "  \n",
        "  inicio = perf_counter()\n",
        "  countingSort2(listaPiorCaso)\n",
        "  fim = perf_counter()\n",
        "\n",
        "\n",
        "  resultados2[x]=fim-inicio\n",
        "  resultados2[x]=round(resultados2[x],5)\n",
        "\n",
        "  print(\"Para \",testes[x],\" elementos foi gasto\",resultados2[x],\"segundos\")"
      ],
      "metadata": {
        "id": "r9OiTRAxcudU",
        "colab": {
          "base_uri": "https://localhost:8080/"
        },
        "outputId": "a5d9001c-43e0-43d8-a2f7-b3bb85a87978"
      },
      "execution_count": null,
      "outputs": [
        {
          "output_type": "stream",
          "name": "stdout",
          "text": [
            "Para  10000  elementos foi gasto 0.00902 segundos\n",
            "Para  20000  elementos foi gasto 0.01904 segundos\n",
            "Para  30000  elementos foi gasto 0.03388 segundos\n",
            "Para  40000  elementos foi gasto 0.05386 segundos\n",
            "Para  50000  elementos foi gasto 0.05604 segundos\n",
            "Para  80000  elementos foi gasto 0.11242 segundos\n",
            "Para  100000  elementos foi gasto 0.10319 segundos\n"
          ]
        }
      ]
    },
    {
      "cell_type": "markdown",
      "source": [
        "Vamos agora ver o gráfico do pior caso"
      ],
      "metadata": {
        "id": "niHHwWdVfumm"
      }
    },
    {
      "cell_type": "code",
      "source": [
        "plt.plot(testes,resultados2)\n",
        "plt.ylabel('Tempo(s)')\n",
        "plt.xlabel('Nº de Elementos')\n",
        "plt.show()"
      ],
      "metadata": {
        "id": "B4CvezvrftbC",
        "colab": {
          "base_uri": "https://localhost:8080/",
          "height": 279
        },
        "outputId": "5ddc4bad-d33b-4f25-e42e-a8a9c2b648a5"
      },
      "execution_count": null,
      "outputs": [
        {
          "output_type": "display_data",
          "data": {
            "text/plain": [
              "<Figure size 432x288 with 1 Axes>"
            ],
            "image/png": "[encoded data removed]"
          },
          "metadata": {
            "needs_background": "light"
          }
        }
      ]
    },
    {
      "cell_type": "markdown",
      "source": [
        "# Comparativo entre Pior Caso e listas com números aleatórios"
      ],
      "metadata": {
        "id": "ZzvMsVJrpBlj"
      }
    },
    {
      "cell_type": "code",
      "source": [
        "x = testes\n",
        "\n",
        "plt.plot(x, resultados, label='Números Aleatórios')\n",
        "plt.plot(x, resultados2, label='Pior Caso(vetor contador muito grande)')  \n",
        "plt.ylabel('Tempo(s)')\n",
        "plt.xlabel('Nº de Elementos')\n",
        "plt.title(\"Counting Sort\")\n",
        "plt.legend();\n",
        "\n"
      ],
      "metadata": {
        "id": "Cldk1mKFl4nT",
        "colab": {
          "base_uri": "https://localhost:8080/",
          "height": 295
        },
        "outputId": "9df2b252-04f2-4ed3-b023-be62e0389216"
      },
      "execution_count": null,
      "outputs": [
        {
          "output_type": "display_data",
          "data": {
            "text/plain": [
              "<Figure size 432x288 with 1 Axes>"
            ],
            "image/png": "[encoded data removed]"
          },
          "metadata": {
            "needs_background": "light"
          }
        }
      ]
    }
  ]
}